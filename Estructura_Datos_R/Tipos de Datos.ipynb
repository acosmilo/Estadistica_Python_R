{
 "cells": [
  {
   "cell_type": "markdown",
   "metadata": {},
   "source": [
    "# Tipos de datos"
   ]
  },
  {
   "cell_type": "markdown",
   "metadata": {},
   "source": [
    "Vector es una secuencia ordenada de datos que pueden ser:\n",
    "\n",
    "logical: Logicos(TRUE o FALSE)\n",
    "\n",
    "integer: numeros enteros, Z\n",
    "\n",
    "numeric: Numeros reales, R\n",
    "\n",
    "complex: numeros complejos, C\n",
    "\n",
    "character: palabras\n",
    "\n",
    "Todos los objetos del vector deben ser del mismo tipo\n",
    "Las listas generalizadas list son vectores formados por objetos de diferentes tipos"
   ]
  },
  {
   "cell_type": "code",
   "execution_count": null,
   "metadata": {},
   "outputs": [],
   "source": []
  }
 ],
 "metadata": {
  "kernelspec": {
   "display_name": "R",
   "language": "R",
   "name": "ir"
  },
  "language_info": {
   "codemirror_mode": "r",
   "file_extension": ".r",
   "mimetype": "text/x-r-source",
   "name": "R",
   "pygments_lexer": "r",
   "version": "3.6.1"
  }
 },
 "nbformat": 4,
 "nbformat_minor": 2
}
